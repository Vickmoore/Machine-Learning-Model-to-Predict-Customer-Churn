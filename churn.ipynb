{
 "cells": [
  {
   "cell_type": "code",
   "execution_count": 39,
   "metadata": {},
   "outputs": [],
   "source": [
    "import pdfplumber\n",
    "import pickle\n",
    "import pandas as pd\n",
    "import numpy as np\n",
    "import seaborn as sns\n",
    "import matplotlib.pyplot as plt\n",
    "from sklearn.preprocessing import LabelEncoder\n",
    "from sklearn.model_selection import train_test_split\n",
    "from sklearn.linear_model import LogisticRegression\n",
    "from sklearn.ensemble import RandomForestClassifier\n",
    "from sklearn.metrics import accuracy_score, precision_score, recall_score, f1_score\n",
    "from datetime import datetime\n",
    "from sklearn.preprocessing import MinMaxScaler"
   ]
  },
  {
   "cell_type": "code",
   "execution_count": 40,
   "metadata": {},
   "outputs": [],
   "source": [
    "import pdfplumber\n",
    "import pandas as pd\n",
    "\n",
    "# Open the PDF and extract text\n",
    "with pdfplumber.open('Historical_Customer_Data_Churn_Prediction.pdf') as pdf:\n",
    "    pages = pdf.pages\n",
    "    data = []\n",
    "    for page in pages:\n",
    "        tables = page.extract_tables()\n",
    "        for table in tables:\n",
    "            data.extend(table)\n",
    "\n",
    "# Convert extracted data to a DataFrame\n",
    "data = pd.DataFrame(data[1:], columns=data[0])  # Assuming the first row is the header"
   ]
  },
  {
   "cell_type": "code",
   "execution_count": 41,
   "metadata": {},
   "outputs": [
    {
     "data": {
      "text/html": [
       "<div>\n",
       "<style scoped>\n",
       "    .dataframe tbody tr th:only-of-type {\n",
       "        vertical-align: middle;\n",
       "    }\n",
       "\n",
       "    .dataframe tbody tr th {\n",
       "        vertical-align: top;\n",
       "    }\n",
       "\n",
       "    .dataframe thead th {\n",
       "        text-align: right;\n",
       "    }\n",
       "</style>\n",
       "<table border=\"1\" class=\"dataframe\">\n",
       "  <thead>\n",
       "    <tr style=\"text-align: right;\">\n",
       "      <th></th>\n",
       "      <th>Customer ID</th>\n",
       "      <th>Start Date</th>\n",
       "      <th>End Date</th>\n",
       "      <th>Usage Freq</th>\n",
       "      <th>Avg. Session Length</th>\n",
       "      <th>Age</th>\n",
       "      <th>Location</th>\n",
       "      <th>Churn Status</th>\n",
       "    </tr>\n",
       "  </thead>\n",
       "  <tbody>\n",
       "    <tr>\n",
       "      <th>0</th>\n",
       "      <td>101</td>\n",
       "      <td>2022-01-15</td>\n",
       "      <td>2023-01-14</td>\n",
       "      <td>20</td>\n",
       "      <td>35</td>\n",
       "      <td>34</td>\n",
       "      <td>New York</td>\n",
       "      <td>1</td>\n",
       "    </tr>\n",
       "    <tr>\n",
       "      <th>1</th>\n",
       "      <td>102</td>\n",
       "      <td>2021-06-10</td>\n",
       "      <td>-</td>\n",
       "      <td>15</td>\n",
       "      <td>40</td>\n",
       "      <td>29</td>\n",
       "      <td>California</td>\n",
       "      <td>0</td>\n",
       "    </tr>\n",
       "    <tr>\n",
       "      <th>2</th>\n",
       "      <td>103</td>\n",
       "      <td>2023-03-20</td>\n",
       "      <td>-</td>\n",
       "      <td>30</td>\n",
       "      <td>45</td>\n",
       "      <td>45</td>\n",
       "      <td>Texas</td>\n",
       "      <td>0</td>\n",
       "    </tr>\n",
       "    <tr>\n",
       "      <th>3</th>\n",
       "      <td>104</td>\n",
       "      <td>2020-11-25</td>\n",
       "      <td>2022-11-24</td>\n",
       "      <td>10</td>\n",
       "      <td>30</td>\n",
       "      <td>38</td>\n",
       "      <td>Florida</td>\n",
       "      <td>1</td>\n",
       "    </tr>\n",
       "    <tr>\n",
       "      <th>4</th>\n",
       "      <td>105</td>\n",
       "      <td>2021-08-19</td>\n",
       "      <td>2022-08-18</td>\n",
       "      <td>25</td>\n",
       "      <td>50</td>\n",
       "      <td>27</td>\n",
       "      <td>Illinois</td>\n",
       "      <td>1</td>\n",
       "    </tr>\n",
       "  </tbody>\n",
       "</table>\n",
       "</div>"
      ],
      "text/plain": [
       "  Customer ID  Start Date    End Date Usage Freq Avg. Session Length Age  \\\n",
       "0         101  2022-01-15  2023-01-14         20                  35  34   \n",
       "1         102  2021-06-10           -         15                  40  29   \n",
       "2         103  2023-03-20           -         30                  45  45   \n",
       "3         104  2020-11-25  2022-11-24         10                  30  38   \n",
       "4         105  2021-08-19  2022-08-18         25                  50  27   \n",
       "\n",
       "     Location Churn Status  \n",
       "0    New York            1  \n",
       "1  California            0  \n",
       "2       Texas            0  \n",
       "3     Florida            1  \n",
       "4    Illinois            1  "
      ]
     },
     "execution_count": 41,
     "metadata": {},
     "output_type": "execute_result"
    }
   ],
   "source": [
    "data.head(5)"
   ]
  },
  {
   "cell_type": "code",
   "execution_count": 42,
   "metadata": {},
   "outputs": [
    {
     "name": "stdout",
     "output_type": "stream",
     "text": [
      "<class 'pandas.core.frame.DataFrame'>\n",
      "RangeIndex: 5 entries, 0 to 4\n",
      "Data columns (total 8 columns):\n",
      " #   Column               Non-Null Count  Dtype \n",
      "---  ------               --------------  ----- \n",
      " 0   Customer ID          5 non-null      object\n",
      " 1   Start Date           5 non-null      object\n",
      " 2   End Date             5 non-null      object\n",
      " 3   Usage Freq           5 non-null      object\n",
      " 4   Avg. Session Length  5 non-null      object\n",
      " 5   Age                  5 non-null      object\n",
      " 6   Location             5 non-null      object\n",
      " 7   Churn Status         5 non-null      object\n",
      "dtypes: object(8)\n",
      "memory usage: 448.0+ bytes\n"
     ]
    }
   ],
   "source": [
    "data.info()"
   ]
  },
  {
   "cell_type": "code",
   "execution_count": 43,
   "metadata": {},
   "outputs": [
    {
     "data": {
      "text/plain": [
       "Customer ID            0\n",
       "Start Date             0\n",
       "End Date               0\n",
       "Usage Freq             0\n",
       "Avg. Session Length    0\n",
       "Age                    0\n",
       "Location               0\n",
       "Churn Status           0\n",
       "dtype: int64"
      ]
     },
     "execution_count": 43,
     "metadata": {},
     "output_type": "execute_result"
    }
   ],
   "source": [
    "data.isnull().sum()"
   ]
  },
  {
   "cell_type": "code",
   "execution_count": 44,
   "metadata": {},
   "outputs": [],
   "source": [
    "# Convert columns to numeric\n",
    "data['Age'] = pd.to_numeric(data['Age'], errors=\"coerce\")\n",
    "data['Usage Freq'] = pd.to_numeric(data['Usage Freq'], errors='coerce')\n",
    "data['Avg. Session Length'] = pd.to_numeric(data['Avg. Session Length'], errors='coerce')\n",
    "\n",
    "# Convert the 'Start Date' and 'End Date' to datetime\n",
    "data['Start Date'] = pd.to_datetime(data['Start Date'], errors=\"coerce\")\n",
    "data['End Date'] = pd.to_datetime(data['End Date'], errors=\"coerce\")\n",
    "\n",
    "\n",
    "le = LabelEncoder()\n",
    "data['Location'] = le.fit_transform(data['Location'])\n",
    "data['Churn Status'] = le.fit_transform(data['Churn Status'])"
   ]
  },
  {
   "cell_type": "code",
   "execution_count": 45,
   "metadata": {},
   "outputs": [
    {
     "name": "stdout",
     "output_type": "stream",
     "text": [
      "<class 'pandas.core.frame.DataFrame'>\n",
      "RangeIndex: 5 entries, 0 to 4\n",
      "Data columns (total 8 columns):\n",
      " #   Column               Non-Null Count  Dtype         \n",
      "---  ------               --------------  -----         \n",
      " 0   Customer ID          5 non-null      object        \n",
      " 1   Start Date           5 non-null      datetime64[ns]\n",
      " 2   End Date             3 non-null      datetime64[ns]\n",
      " 3   Usage Freq           5 non-null      int64         \n",
      " 4   Avg. Session Length  5 non-null      int64         \n",
      " 5   Age                  5 non-null      int64         \n",
      " 6   Location             5 non-null      int32         \n",
      " 7   Churn Status         5 non-null      int32         \n",
      "dtypes: datetime64[ns](2), int32(2), int64(3), object(1)\n",
      "memory usage: 408.0+ bytes\n"
     ]
    }
   ],
   "source": [
    "data.info()"
   ]
  },
  {
   "cell_type": "markdown",
   "metadata": {},
   "source": [
    "EXPLORATORY DATA ANALYSIS (EDA)"
   ]
  },
  {
   "cell_type": "markdown",
   "metadata": {},
   "source": [
    "HANDLING OUTLIERS IF THERE IS ANY"
   ]
  },
  {
   "cell_type": "code",
   "execution_count": 46,
   "metadata": {},
   "outputs": [],
   "source": [
    "# Calculate Q1 (25th percentile) and Q3 (75th percentile)\n",
    "Q1 = data['Age'].quantile(0.25)\n",
    "Q3 = data['Age'].quantile(0.75)\n",
    "IQR = Q3 - Q1\n",
    "\n",
    "# Determine the outlier bounds\n",
    "lower_bound = Q1 - 1.5 * IQR\n",
    "upper_bound = Q3 + 1.5 * IQR\n",
    "\n",
    "# Filter the dataset to exclude outliers\n",
    "data_filtered = data[(data['Age'] >= lower_bound) & (data['Age'] <= upper_bound)]\n"
   ]
  },
  {
   "cell_type": "code",
   "execution_count": 47,
   "metadata": {},
   "outputs": [
    {
     "data": {
      "image/png": "[encoded data removed]",
      "text/plain": [
       "<Figure size 640x480 with 1 Axes>"
      ]
     },
     "metadata": {},
     "output_type": "display_data"
    }
   ],
   "source": [
    "#   Using Histogram to analyse the target variable (Chrun Status)\n",
    "sns.countplot(x='Churn Status', data = data)\n",
    "plt.title('Churn Status Distribution')\n",
    "plt.show()"
   ]
  },
  {
   "cell_type": "markdown",
   "metadata": {},
   "source": [
    "This plot shows the proportion of customers who chunned against those who did not.\n",
    "so we have 3.0 for those who chunned against 2.0 for those who didnt."
   ]
  },
  {
   "cell_type": "code",
   "execution_count": 48,
   "metadata": {},
   "outputs": [
    {
     "data": {
      "image/png": "[encoded data removed]",
      "text/plain": [
       "<Figure size 640x480 with 1 Axes>"
      ]
     },
     "metadata": {},
     "output_type": "display_data"
    }
   ],
   "source": [
    "# Plot distribution of Usage Frequency\n",
    "sns.histplot(data['Usage Freq'], bins=20, kde=True)\n",
    "plt.title('Usage Frequency Distribution')\n",
    "plt.xlabel('Usage Frequency (Monthly)')\n",
    "plt.ylabel('Count')\n",
    "plt.show()\n"
   ]
  },
  {
   "cell_type": "markdown",
   "metadata": {},
   "source": [
    "This shows how customer uses their service, observing whether low or high usage is more common, which might highly be linked to the churn behavior"
   ]
  },
  {
   "cell_type": "code",
   "execution_count": 50,
   "metadata": {},
   "outputs": [
    {
     "data": {
      "image/png": "[encoded data removed]",
      "text/plain": [
       "<Figure size 640x480 with 1 Axes>"
      ]
     },
     "metadata": {},
     "output_type": "display_data"
    }
   ],
   "source": [
    "# Create age groups\n",
    "data['Age Group'] = pd.cut(data['Age'], bins=[0, 18, 30, 45, 60, 100], labels=['<18', '18-30', '30-45', '45-60', '>60'])\n",
    "\n",
    "# Plot churn status by age group\n",
    "sns.countplot(x='Age Group', hue='Churn Status', data=data)\n",
    "plt.title('Churn Status by Age Group')\n",
    "plt.show()\n"
   ]
  },
  {
   "cell_type": "code",
   "execution_count": 51,
   "metadata": {},
   "outputs": [
    {
     "data": {
      "image/png": "[encoded data removed]",
      "text/plain": [
       "<Figure size 1200x600 with 1 Axes>"
      ]
     },
     "metadata": {},
     "output_type": "display_data"
    }
   ],
   "source": [
    "# Create a bar plot for location and churn status\n",
    "plt.figure(figsize=(12, 6))\n",
    "sns.countplot(x='Location', hue='Churn Status', data=data)\n",
    "plt.title('Churn Status by Location')\n",
    "plt.xticks(rotation=45)\n",
    "plt.show()\n"
   ]
  },
  {
   "cell_type": "code",
   "execution_count": 52,
   "metadata": {},
   "outputs": [
    {
     "name": "stderr",
     "output_type": "stream",
     "text": [
      "C:\\Users\\USER\\AppData\\Local\\Temp\\ipykernel_17492\\82653553.py:1: FutureWarning: The default value of numeric_only in DataFrame.corr is deprecated. In a future version, it will default to False. Select only valid columns or specify the value of numeric_only to silence this warning.\n",
      "  corr_matrix = data.corr()\n"
     ]
    },
    {
     "data": {
      "image/png": "[encoded data removed]",
      "text/plain": [
       "<Figure size 1500x1000 with 4 Axes>"
      ]
     },
     "metadata": {},
     "output_type": "display_data"
    }
   ],
   "source": [
    "corr_matrix = data.corr()\n",
    "\n",
    "# Create subplots\n",
    "fig, axs = plt.subplots(2, 2, figsize=(15, 10))\n",
    "\n",
    "# Pair plot\n",
    "sns.scatterplot(data=data, x='Usage Freq', y='Avg. Session Length', hue='Churn Status', ax=axs[0, 0])\n",
    "axs[0, 0].set_title('Usage Freq vs Avg. Session Length')\n",
    "\n",
    "# Box plot for Age\n",
    "sns.boxplot(x='Churn Status', y='Age', data=data, ax=axs[0, 1])\n",
    "axs[0, 1].set_title('Age by Churn Status')\n",
    "\n",
    "# Count plot for Location\n",
    "sns.countplot(x='Location', hue='Churn Status', data=data, ax=axs[1, 1])\n",
    "axs[1, 1].set_title('Churn Status by Location')\n",
    "plt.xticks(rotation=45)\n",
    "\n",
    "plt.tight_layout()\n",
    "plt.show()\n"
   ]
  },
  {
   "cell_type": "markdown",
   "metadata": {},
   "source": [
    "GRAPH ONE:\n",
    "A scatter plot is created in the top-left subplot (first row, first column). It plots the Usage Freq on the x-axis and Avg. Session Length on the y-axis.\n",
    "The hue='Churn Status' argument colors the points based on the churn status of customers, allowing to see if there's a relationship between usage frequency, session length, and churn.\n",
    "The title for this subplot is set to \"Usage Freq vs Avg. Session Length\"."
   ]
  },
  {
   "cell_type": "markdown",
   "metadata": {},
   "source": [
    "GRAPH TWO:\n",
    "A box plot  is created in the top-right subplot (first row, second column). It shows the distribution of Age for different categories of Churn Status.\n",
    "It helps in visualizing the median, quartiles, and outliers of age data grouped by churn status.\n",
    "The title for this subplot is set to \"Age by Churn Status\"."
   ]
  },
  {
   "cell_type": "markdown",
   "metadata": {},
   "source": [
    "GRAPH THREE:\n",
    "A count plot in the bottom-right subplot (second row, second column). It counts the occurrences of each Location and splits them based on Churn Status using different colors for each status.\n",
    "This plot helps visualize how churn varies by location.\n",
    "The title for this subplot is set to \"Churn Status by Location\"."
   ]
  },
  {
   "cell_type": "markdown",
   "metadata": {},
   "source": [
    "FEATURE ENGINEERING"
   ]
  },
  {
   "cell_type": "code",
   "execution_count": 53,
   "metadata": {},
   "outputs": [
    {
     "name": "stdout",
     "output_type": "stream",
     "text": [
      "  Start Date   End Date  Subscription Duration (Months)  Age  Total Usage  \\\n",
      "0 2022-01-15 2023-01-14                              12   34          240   \n",
      "1 2021-06-10        NaT                              41   29          615   \n",
      "2 2023-03-20        NaT                              19   45          570   \n",
      "3 2020-11-25 2022-11-24                              24   38          240   \n",
      "4 2021-08-19 2022-08-18                              12   27          300   \n",
      "\n",
      "   Location  Churn Status  \n",
      "0         3             1  \n",
      "1         0             0  \n",
      "2         4             0  \n",
      "3         1             1  \n",
      "4         2             1  \n"
     ]
    }
   ],
   "source": [
    "import pandas as pd\n",
    "from datetime import datetime\n",
    "\n",
    "# Convert 'End Date' and 'Start Date' to datetime\n",
    "data['End Date'] = pd.to_datetime(data['End Date'], errors='coerce')\n",
    "data['Start Date'] = pd.to_datetime(data['Start Date'], errors='coerce')\n",
    "\n",
    "# Calculate Subscription Duration in Months correctly\n",
    "data['Subscription Duration (Months)'] = ((data['End Date'].fillna(datetime.now()) - data['Start Date'])\n",
    "                                           / pd.Timedelta(days=30)).astype(int)\n",
    "\n",
    "# Calculate Total Usage\n",
    "data['Total Usage'] = data['Usage Freq'] * data['Subscription Duration (Months)']\n",
    "\n",
    "# Check the updated DataFrame\n",
    "print(data[['Start Date', 'End Date', 'Subscription Duration (Months)', 'Age', 'Total Usage', 'Location', 'Churn Status']].head())\n"
   ]
  },
  {
   "cell_type": "code",
   "execution_count": 54,
   "metadata": {},
   "outputs": [
    {
     "data": {
      "text/plain": [
       "Index(['Customer ID', 'Start Date', 'End Date', 'Usage Freq',\n",
       "       'Avg. Session Length', 'Age', 'Location', 'Churn Status', 'Age Group',\n",
       "       'Subscription Duration (Months)', 'Total Usage'],\n",
       "      dtype='object')"
      ]
     },
     "execution_count": 54,
     "metadata": {},
     "output_type": "execute_result"
    }
   ],
   "source": [
    "data.columns"
   ]
  },
  {
   "cell_type": "code",
   "execution_count": 55,
   "metadata": {},
   "outputs": [
    {
     "data": {
      "text/plain": [
       "Customer ID                       0\n",
       "Start Date                        0\n",
       "End Date                          2\n",
       "Usage Freq                        0\n",
       "Avg. Session Length               0\n",
       "Age                               0\n",
       "Location                          0\n",
       "Churn Status                      0\n",
       "Age Group                         0\n",
       "Subscription Duration (Months)    0\n",
       "Total Usage                       0\n",
       "dtype: int64"
      ]
     },
     "execution_count": 55,
     "metadata": {},
     "output_type": "execute_result"
    }
   ],
   "source": [
    "data.isnull().sum()"
   ]
  },
  {
   "cell_type": "code",
   "execution_count": 56,
   "metadata": {},
   "outputs": [],
   "source": [
    "data['End Date'].fillna(data['End Date'].mean(), inplace=True)"
   ]
  },
  {
   "cell_type": "code",
   "execution_count": 57,
   "metadata": {},
   "outputs": [
    {
     "data": {
      "text/plain": [
       "Customer ID                       0\n",
       "Start Date                        0\n",
       "End Date                          0\n",
       "Usage Freq                        0\n",
       "Avg. Session Length               0\n",
       "Age                               0\n",
       "Location                          0\n",
       "Churn Status                      0\n",
       "Age Group                         0\n",
       "Subscription Duration (Months)    0\n",
       "Total Usage                       0\n",
       "dtype: int64"
      ]
     },
     "execution_count": 57,
     "metadata": {},
     "output_type": "execute_result"
    }
   ],
   "source": [
    "data.isnull().sum()"
   ]
  },
  {
   "cell_type": "code",
   "execution_count": 58,
   "metadata": {},
   "outputs": [
    {
     "name": "stdout",
     "output_type": "stream",
     "text": [
      "  Customer ID Start Date            End Date  Usage Freq  Avg. Session Length  \\\n",
      "0         101 2022-01-15 2023-01-14 00:00:00        0.50                   35   \n",
      "1         102 2021-06-10 2022-11-08 08:00:00        0.25                   40   \n",
      "2         103 2023-03-20 2022-11-08 08:00:00        1.00                   45   \n",
      "3         104 2020-11-25 2022-11-24 00:00:00        0.00                   30   \n",
      "4         105 2021-08-19 2022-08-18 00:00:00        0.75                   50   \n",
      "\n",
      "        Age  Location  Churn Status Age Group  Subscription Duration (Months)  \\\n",
      "0  0.388889         3             1     30-45                              12   \n",
      "1  0.111111         0             0     18-30                              41   \n",
      "2  1.000000         4             0     30-45                              19   \n",
      "3  0.611111         1             1     30-45                              24   \n",
      "4  0.000000         2             1     18-30                              12   \n",
      "\n",
      "   Total Usage  \n",
      "0          240  \n",
      "1          615  \n",
      "2          570  \n",
      "3          240  \n",
      "4          300  \n"
     ]
    }
   ],
   "source": [
    "# Initialize the MinMaxScaler\n",
    "scaler = MinMaxScaler()\n",
    "\n",
    "# Normalize 'Customer Age' and 'Usage Freq'\n",
    "data[['Age', 'Usage Freq']] =scaler.fit_transform(data[['Age', 'Usage Freq']])\n",
    "\n",
    "# Display the first few rows of the normalized data\n",
    "print(data.head())\n"
   ]
  },
  {
   "cell_type": "code",
   "execution_count": 59,
   "metadata": {},
   "outputs": [
    {
     "name": "stdout",
     "output_type": "stream",
     "text": [
      "5\n"
     ]
    }
   ],
   "source": [
    "# convert 'Churn Status' to numeric\n",
    "data['Churn Status'] = data['Churn Status'].map({'no': 0, 'yes': 1})  # Example mapping\n",
    "print(data['Churn Status'].isna().sum())  # Count NaN values in Churn Status\n",
    "# Example of filling NaN with 0 (assuming 0 means not churned)\n",
    "data['Churn Status'] = data['Churn Status'].fillna(0)  # Or any other appropriate value\n"
   ]
  },
  {
   "cell_type": "code",
   "execution_count": 60,
   "metadata": {},
   "outputs": [],
   "source": [
    "data.drop(columns = ['Age Group', 'Usage Freq'], inplace=True)"
   ]
  },
  {
   "cell_type": "code",
   "execution_count": 61,
   "metadata": {},
   "outputs": [
    {
     "data": {
      "text/html": [
       "<div>\n",
       "<style scoped>\n",
       "    .dataframe tbody tr th:only-of-type {\n",
       "        vertical-align: middle;\n",
       "    }\n",
       "\n",
       "    .dataframe tbody tr th {\n",
       "        vertical-align: top;\n",
       "    }\n",
       "\n",
       "    .dataframe thead th {\n",
       "        text-align: right;\n",
       "    }\n",
       "</style>\n",
       "<table border=\"1\" class=\"dataframe\">\n",
       "  <thead>\n",
       "    <tr style=\"text-align: right;\">\n",
       "      <th></th>\n",
       "      <th>Customer ID</th>\n",
       "      <th>Start Date</th>\n",
       "      <th>End Date</th>\n",
       "      <th>Avg. Session Length</th>\n",
       "      <th>Age</th>\n",
       "      <th>Location</th>\n",
       "      <th>Churn Status</th>\n",
       "      <th>Subscription Duration (Months)</th>\n",
       "      <th>Total Usage</th>\n",
       "    </tr>\n",
       "  </thead>\n",
       "  <tbody>\n",
       "    <tr>\n",
       "      <th>0</th>\n",
       "      <td>101</td>\n",
       "      <td>2022-01-15</td>\n",
       "      <td>2023-01-14 00:00:00</td>\n",
       "      <td>35</td>\n",
       "      <td>0.388889</td>\n",
       "      <td>3</td>\n",
       "      <td>0.0</td>\n",
       "      <td>12</td>\n",
       "      <td>240</td>\n",
       "    </tr>\n",
       "    <tr>\n",
       "      <th>1</th>\n",
       "      <td>102</td>\n",
       "      <td>2021-06-10</td>\n",
       "      <td>2022-11-08 08:00:00</td>\n",
       "      <td>40</td>\n",
       "      <td>0.111111</td>\n",
       "      <td>0</td>\n",
       "      <td>0.0</td>\n",
       "      <td>41</td>\n",
       "      <td>615</td>\n",
       "    </tr>\n",
       "    <tr>\n",
       "      <th>2</th>\n",
       "      <td>103</td>\n",
       "      <td>2023-03-20</td>\n",
       "      <td>2022-11-08 08:00:00</td>\n",
       "      <td>45</td>\n",
       "      <td>1.000000</td>\n",
       "      <td>4</td>\n",
       "      <td>0.0</td>\n",
       "      <td>19</td>\n",
       "      <td>570</td>\n",
       "    </tr>\n",
       "  </tbody>\n",
       "</table>\n",
       "</div>"
      ],
      "text/plain": [
       "  Customer ID Start Date            End Date  Avg. Session Length       Age  \\\n",
       "0         101 2022-01-15 2023-01-14 00:00:00                   35  0.388889   \n",
       "1         102 2021-06-10 2022-11-08 08:00:00                   40  0.111111   \n",
       "2         103 2023-03-20 2022-11-08 08:00:00                   45  1.000000   \n",
       "\n",
       "   Location  Churn Status  Subscription Duration (Months)  Total Usage  \n",
       "0         3           0.0                              12          240  \n",
       "1         0           0.0                              41          615  \n",
       "2         4           0.0                              19          570  "
      ]
     },
     "execution_count": 61,
     "metadata": {},
     "output_type": "execute_result"
    }
   ],
   "source": [
    "data.head(3)"
   ]
  },
  {
   "cell_type": "markdown",
   "metadata": {},
   "source": [
    "TRAINING PHASE"
   ]
  },
  {
   "cell_type": "code",
   "execution_count": 62,
   "metadata": {},
   "outputs": [],
   "source": [
    "X = data[['Age', 'Avg. Session Length', 'Location', 'Subscription Duration (Months)', 'Location', 'Total Usage']]\n",
    "y = data['Churn Status']\n",
    "\n",
    "X_train, X_test, y_train, y_test = train_test_split(X,y, test_size=0.2, random_state=42)"
   ]
  },
  {
   "cell_type": "code",
   "execution_count": 63,
   "metadata": {},
   "outputs": [
    {
     "data": {
      "text/html": [
       "<div>\n",
       "<style scoped>\n",
       "    .dataframe tbody tr th:only-of-type {\n",
       "        vertical-align: middle;\n",
       "    }\n",
       "\n",
       "    .dataframe tbody tr th {\n",
       "        vertical-align: top;\n",
       "    }\n",
       "\n",
       "    .dataframe thead th {\n",
       "        text-align: right;\n",
       "    }\n",
       "</style>\n",
       "<table border=\"1\" class=\"dataframe\">\n",
       "  <thead>\n",
       "    <tr style=\"text-align: right;\">\n",
       "      <th></th>\n",
       "      <th>Age</th>\n",
       "      <th>Avg. Session Length</th>\n",
       "      <th>Location</th>\n",
       "      <th>Subscription Duration (Months)</th>\n",
       "      <th>Location</th>\n",
       "      <th>Total Usage</th>\n",
       "    </tr>\n",
       "  </thead>\n",
       "  <tbody>\n",
       "    <tr>\n",
       "      <th>0</th>\n",
       "      <td>0.388889</td>\n",
       "      <td>35</td>\n",
       "      <td>3</td>\n",
       "      <td>12</td>\n",
       "      <td>3</td>\n",
       "      <td>240</td>\n",
       "    </tr>\n",
       "    <tr>\n",
       "      <th>1</th>\n",
       "      <td>0.111111</td>\n",
       "      <td>40</td>\n",
       "      <td>0</td>\n",
       "      <td>41</td>\n",
       "      <td>0</td>\n",
       "      <td>615</td>\n",
       "    </tr>\n",
       "    <tr>\n",
       "      <th>2</th>\n",
       "      <td>1.000000</td>\n",
       "      <td>45</td>\n",
       "      <td>4</td>\n",
       "      <td>19</td>\n",
       "      <td>4</td>\n",
       "      <td>570</td>\n",
       "    </tr>\n",
       "    <tr>\n",
       "      <th>3</th>\n",
       "      <td>0.611111</td>\n",
       "      <td>30</td>\n",
       "      <td>1</td>\n",
       "      <td>24</td>\n",
       "      <td>1</td>\n",
       "      <td>240</td>\n",
       "    </tr>\n",
       "    <tr>\n",
       "      <th>4</th>\n",
       "      <td>0.000000</td>\n",
       "      <td>50</td>\n",
       "      <td>2</td>\n",
       "      <td>12</td>\n",
       "      <td>2</td>\n",
       "      <td>300</td>\n",
       "    </tr>\n",
       "  </tbody>\n",
       "</table>\n",
       "</div>"
      ],
      "text/plain": [
       "        Age  Avg. Session Length  Location  Subscription Duration (Months)  \\\n",
       "0  0.388889                   35         3                              12   \n",
       "1  0.111111                   40         0                              41   \n",
       "2  1.000000                   45         4                              19   \n",
       "3  0.611111                   30         1                              24   \n",
       "4  0.000000                   50         2                              12   \n",
       "\n",
       "   Location  Total Usage  \n",
       "0         3          240  \n",
       "1         0          615  \n",
       "2         4          570  \n",
       "3         1          240  \n",
       "4         2          300  "
      ]
     },
     "execution_count": 63,
     "metadata": {},
     "output_type": "execute_result"
    }
   ],
   "source": [
    "X"
   ]
  },
  {
   "cell_type": "markdown",
   "metadata": {},
   "source": [
    "MODEL SELECTION USING THE RANDOM FOREST CLASSIFIER"
   ]
  },
  {
   "cell_type": "code",
   "execution_count": 64,
   "metadata": {},
   "outputs": [],
   "source": [
    "model  = RandomForestClassifier(n_estimators=100, random_state=42)\n",
    "model.fit(X_train, y_train)\n",
    "\n",
    "# Make prediction\n",
    "y_pred = model.predict(X_test)"
   ]
  },
  {
   "cell_type": "code",
   "execution_count": 65,
   "metadata": {},
   "outputs": [
    {
     "name": "stdout",
     "output_type": "stream",
     "text": [
      "The Accuracy score is: 1.0\n",
      "The Precision score is: 0.0\n",
      "The Recall score is: 0.0\n",
      "The F1 Score is: 0.0\n"
     ]
    },
    {
     "name": "stderr",
     "output_type": "stream",
     "text": [
      "c:\\Users\\USER\\anaconda3\\lib\\site-packages\\sklearn\\metrics\\_classification.py:1344: UndefinedMetricWarning: Precision is ill-defined and being set to 0.0 due to no predicted samples. Use `zero_division` parameter to control this behavior.\n",
      "  _warn_prf(average, modifier, msg_start, len(result))\n",
      "c:\\Users\\USER\\anaconda3\\lib\\site-packages\\sklearn\\metrics\\_classification.py:1344: UndefinedMetricWarning: Recall is ill-defined and being set to 0.0 due to no true samples. Use `zero_division` parameter to control this behavior.\n",
      "  _warn_prf(average, modifier, msg_start, len(result))\n",
      "c:\\Users\\USER\\anaconda3\\lib\\site-packages\\sklearn\\metrics\\_classification.py:1609: UndefinedMetricWarning: F-score is ill-defined and being set to 0.0 due to no true nor predicted samples. Use `zero_division` parameter to control this behavior.\n",
      "  _warn_prf(average, \"true nor predicted\", \"F-score is\", len(true_sum))\n"
     ]
    }
   ],
   "source": [
    "accuracy = accuracy_score(y_test, y_pred)\n",
    "precision = precision_score(y_test, y_pred)\n",
    "recall = recall_score(y_test, y_pred)\n",
    "f1 = f1_score(y_test, y_pred)\n",
    "\n",
    "print(f'The Accuracy score is: {accuracy}')\n",
    "print(f'The Precision score is: {precision}')\n",
    "print(f'The Recall score is: {recall}')\n",
    "print(f'The F1 Score is: {f1}')"
   ]
  },
  {
   "cell_type": "markdown",
   "metadata": {},
   "source": [
    "TO LOAD THE MODEL"
   ]
  },
  {
   "cell_type": "code",
   "execution_count": 67,
   "metadata": {},
   "outputs": [],
   "source": [
    "# Save the model to a file\n",
    "with open('customer_churn_model.pkl', 'wb') as model_file:\n",
    "    pickle.dump(model, model_file)\n",
    "\n",
    "# To load the model later\n",
    "with open('customer_churn_model.pkl', 'rb') as model_file:\n",
    "    loaded_model = pickle.load(model_file)\n"
   ]
  },
  {
   "cell_type": "code",
   "execution_count": null,
   "metadata": {},
   "outputs": [],
   "source": []
  }
 ],
 "metadata": {
  "kernelspec": {
   "display_name": "base",
   "language": "python",
   "name": "python3"
  },
  "language_info": {
   "codemirror_mode": {
    "name": "ipython",
    "version": 3
   },
   "file_extension": ".py",
   "mimetype": "text/x-python",
   "name": "python",
   "nbconvert_exporter": "python",
   "pygments_lexer": "ipython3",
   "version": "3.10.9"
  }
 },
 "nbformat": 4,
 "nbformat_minor": 2
}
